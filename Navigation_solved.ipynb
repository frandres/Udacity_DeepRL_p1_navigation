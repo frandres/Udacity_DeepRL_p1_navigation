{
 "cells": [
  {
   "cell_type": "markdown",
   "metadata": {},
   "source": [
    "# Navigation\n",
    "\n",
    "---\n",
    "\n",
    "You are welcome to use this coding environment to train your agent for the project.  Follow the instructions below to get started!\n",
    "\n",
    "### 1. Start the Environment\n",
    "\n",
    "Run the next code cell to install a few packages.  This line will take a few minutes to run!"
   ]
  },
  {
   "cell_type": "markdown",
   "metadata": {},
   "source": [
    "The environment is already saved in the Workspace and can be accessed at the file path provided below.  Please run the next code cell without making any changes."
   ]
  },
  {
   "cell_type": "code",
   "execution_count": 1,
   "metadata": {},
   "outputs": [
    {
     "name": "stderr",
     "output_type": "stream",
     "text": [
      "INFO:unityagents:\n",
      "'Academy' started successfully!\n",
      "Unity Academy name: Academy\n",
      "        Number of Brains: 1\n",
      "        Number of External Brains : 1\n",
      "        Lesson number : 0\n",
      "        Reset Parameters :\n",
      "\t\t\n",
      "Unity brain name: BananaBrain\n",
      "        Number of Visual Observations (per agent): 0\n",
      "        Vector Observation space type: continuous\n",
      "        Vector Observation space size (per agent): 37\n",
      "        Number of stacked Vector Observation: 1\n",
      "        Vector Action space type: discrete\n",
      "        Vector Action space size (per agent): 4\n",
      "        Vector Action descriptions: , , , \n"
     ]
    }
   ],
   "source": [
    "from unityagents import UnityEnvironment\n",
    "import numpy as np\n",
    "\n",
    "# please do not modify the line below\n",
    "env = UnityEnvironment(file_name=\"./Banana\")"
   ]
  },
  {
   "cell_type": "markdown",
   "metadata": {},
   "source": [
    "Environments contain **_brains_** which are responsible for deciding the actions of their associated agents. Here we check for the first brain available, and set it as the default brain we will be controlling from Python."
   ]
  },
  {
   "cell_type": "code",
   "execution_count": 2,
   "metadata": {},
   "outputs": [],
   "source": [
    "# get the default brain\n",
    "brain_name = env.brain_names[0]\n",
    "brain = env.brains[brain_name]"
   ]
  },
  {
   "cell_type": "markdown",
   "metadata": {},
   "source": [
    "### 2. Examine the State and Action Spaces\n",
    "\n",
    "Run the code cell below to print some information about the environment."
   ]
  },
  {
   "cell_type": "code",
   "execution_count": 3,
   "metadata": {},
   "outputs": [
    {
     "name": "stdout",
     "output_type": "stream",
     "text": [
      "Number of agents: 1\n",
      "Number of actions: 4\n",
      "States look like: [1.         0.         0.         0.         0.84408134 0.\n",
      " 0.         1.         0.         0.0748472  0.         1.\n",
      " 0.         0.         0.25755    1.         0.         0.\n",
      " 0.         0.74177343 0.         1.         0.         0.\n",
      " 0.25854847 0.         0.         1.         0.         0.09355672\n",
      " 0.         1.         0.         0.         0.31969345 0.\n",
      " 0.        ]\n",
      "States have length: 37\n"
     ]
    }
   ],
   "source": [
    "# reset the environment\n",
    "env_info = env.reset(train_mode=True)[brain_name]\n",
    "\n",
    "# number of agents in the environment\n",
    "print('Number of agents:', len(env_info.agents))\n",
    "\n",
    "# number of actions\n",
    "action_size = brain.vector_action_space_size\n",
    "print('Number of actions:', action_size)\n",
    "\n",
    "# examine the state space \n",
    "state = env_info.vector_observations[0]\n",
    "print('States look like:', state)\n",
    "state_size = len(state)\n",
    "print('States have length:', state_size)"
   ]
  },
  {
   "cell_type": "markdown",
   "metadata": {},
   "source": [
    "### 3. Take Random Actions in the Environment\n",
    "\n",
    "In the next code cell, you will learn how to use the Python API to control the agent and receive feedback from the environment.\n",
    "\n",
    "Note that **in this coding environment, you will not be able to watch the agent while it is training**, and you should set `train_mode=True` to restart the environment."
   ]
  },
  {
   "cell_type": "code",
   "execution_count": 4,
   "metadata": {},
   "outputs": [
    {
     "name": "stdout",
     "output_type": "stream",
     "text": [
      "Score: 0.0\n"
     ]
    }
   ],
   "source": [
    "env_info = env.reset(train_mode=True)[brain_name] # reset the environment\n",
    "state = env_info.vector_observations[0]            # get the current state\n",
    "score = 0                                          # initialize the score\n",
    "while True:\n",
    "    action = np.random.randint(action_size)        # select an action\n",
    "    env_info = env.step(action)[brain_name]        # send the action to the environment\n",
    "    next_state = env_info.vector_observations[0]   # get the next state\n",
    "    reward = env_info.rewards[0]                   # get the reward\n",
    "    done = env_info.local_done[0]                  # see if episode has finished\n",
    "    score += reward                                # update the score\n",
    "    state = next_state                             # roll over the state to next time step\n",
    "    if done:                                       # exit loop if episode finished\n",
    "        break\n",
    "    \n",
    "print(\"Score: {}\".format(score))"
   ]
  },
  {
   "cell_type": "markdown",
   "metadata": {},
   "source": [
    "When finished, you can close the environment."
   ]
  },
  {
   "cell_type": "code",
   "execution_count": 5,
   "metadata": {},
   "outputs": [],
   "source": [
    "#env.close()"
   ]
  },
  {
   "cell_type": "markdown",
   "metadata": {},
   "source": [
    "### 4. It's Your Turn!\n",
    "\n",
    "Now it's your turn to train your own agent to solve the environment!  A few **important notes**:\n",
    "- When training the environment, set `train_mode=True`, so that the line for resetting the environment looks like the following:\n",
    "```python\n",
    "env_info = env.reset(train_mode=True)[brain_name]\n",
    "```\n",
    "- To structure your work, you're welcome to work directly in this Jupyter notebook, or you might like to start over with a new file!  You can see the list of files in the workspace by clicking on **_Jupyter_** in the top left corner of the notebook.\n",
    "- In this coding environment, you will not be able to watch the agent while it is training.  However, **_after training the agent_**, you can download the saved model weights to watch the agent on your own machine! "
   ]
  },
  {
   "cell_type": "code",
   "execution_count": 6,
   "metadata": {},
   "outputs": [],
   "source": [
    "from agent.dqn_agent import Agent\n",
    "import unityagents\n",
    "from collections import deque\n",
    "from utils.utils import timed\n",
    "import torch\n",
    "import pickle\n",
    "\n",
    "class AgentTrainer():\n",
    "    def __init__(self,\n",
    "                 env:unityagents.environment.UnityEnvironment,\n",
    "                 max_t = 1000,\n",
    "                 max_n_episodes = 2000\n",
    "                ):\n",
    "        self.env = env\n",
    "        self.max_t=max_t\n",
    "        self.max_n_episodes =max_n_episodes\n",
    "        self.brain_name = env.brain_names[0]\n",
    "    \n",
    "    @timed()\n",
    "    def env_step(self,action):\n",
    "\n",
    "        env_info = self.env.step(action)[self.brain_name] \n",
    "        next_state = env_info.vector_observations[0]   # get the next state\n",
    "        reward = env_info.rewards[0]                   # get the reward\n",
    "        done = env_info.local_done[0]                  # see if episode has finished\n",
    "        \n",
    "        #print('next state, reward,done',next_state,reward,done)\n",
    "        return next_state,reward,done\n",
    "    \n",
    "    @timed()\n",
    "    def train_agent(self,\n",
    "                    agent:Agent):\n",
    "        \"\"\"Deep Q-Learning.\n",
    "\n",
    "        Params\n",
    "        ======\n",
    "            agent:Agent\n",
    "        \"\"\"\n",
    "        scores = []                        # list containing scores from each episode\n",
    "        scores_window = deque(maxlen=100)  # last 100 scores\n",
    "        \n",
    "        last_scores_window_mean = None\n",
    "        \n",
    "        solved= False\n",
    "        \n",
    "        for i_episode in range(1, self.max_n_episodes+1):\n",
    "            env_info = self.env.reset(train_mode=True)[self.brain_name]\n",
    "            #print(env_info)\n",
    "            state = env_info.vector_observations[0]            # get the current state\n",
    "\n",
    "            score = 0\n",
    "            for t in range(self.max_t):\n",
    "                #print(t)\n",
    "                action = agent.act(state) \n",
    "                #print('Epsilon',next(agent.epsilon_gen))\n",
    "                next_state,reward,done = self.env_step(action)\n",
    "                agent.step(state, action, reward, next_state, done)\n",
    "                state = next_state\n",
    "                score += reward\n",
    "                if done:\n",
    "                    break \n",
    "                    \n",
    "            scores_window.append(score)       # save most recent score\n",
    "            scores.append(score)              # save most recent score\n",
    "            print('\\rEpisode {}\\tAverage Score: {:.2f}'.format(i_episode, np.mean(scores_window)), end=\"\")\n",
    "            if i_episode % 100 == 0:\n",
    "                scores_window_mean = np.mean(scores_window)    \n",
    "                print('\\rEpisode {}\\tAverage Score: {:.2f}'.format(i_episode, scores_window_mean))\n",
    "                \n",
    "                \n",
    "#             if i_episode% 300==0:\n",
    "#                 scores_window_mean = np.mean(scores_window)\n",
    "                \n",
    "#                 if (last_scores_window_mean and \n",
    "#                     abs(scores_window_mean-last_scores_window_mean <0.1)):\n",
    "#                         print(f'Difference between two trainings ({last_scores_window_mean}, {scores_window_mean}) between the last 2 windows of size 300 too low. Stopping training.')\n",
    "#                         break\n",
    "                        \n",
    "#                 last_scores_window_mean = scores_window_mean\n",
    "                        \n",
    "            if np.mean(scores_window)>=13.0 and not solved:\n",
    "                solved= True\n",
    "                print('\\nEnvironment solved in {:d} episodes!\\tAverage Score: {:.2f}'.format(i_episode-100, np.mean(scores_window)))\n",
    "                \n",
    "        #self.env.close()\n",
    "        self.scores = scores\n",
    "        torch.save(agent.qnetwork_local.state_dict(), 'checkpoint.pth')\n",
    "        return scores\n",
    "    \n",
    "    def save_scores(self,hyperparams,filename):\n",
    "        obj = {'scores':self.scores,\n",
    "               'hyperparams':hyperparams}\n",
    "        \n",
    "        with open(filename,'wb') as f:\n",
    "            pickle.dump(obj,f)"
   ]
  },
  {
   "cell_type": "code",
   "execution_count": 7,
   "metadata": {},
   "outputs": [],
   "source": [
    "import os\n",
    "os.environ['profiling'] = \"false\""
   ]
  },
  {
   "cell_type": "code",
   "execution_count": null,
   "metadata": {},
   "outputs": [
    {
     "name": "stdout",
     "output_type": "stream",
     "text": [
      "\n",
      "\n",
      "Running {'topology': [256, 128, 32], 'eps_start': 1.0, 'eps_end': 0.01, 'eps_decay': 0.9999, 'beta_start': 0, 'beta_end': 0, 'beta_factor': 1.00003, 'per_alpha': 0, 'description': 'Prioritized_Replay_DDQN_wide_topology'}\n",
      "Agent type <class 'agent.ddqn_prioritized_replay_agent.Agent'>\n",
      "Episode 17\tAverage Score: 0.06"
     ]
    }
   ],
   "source": [
    "\n",
    "import utils\n",
    "\n",
    "\n",
    "\n",
    "from agent.ddqn_agent import Agent as DDQN_Agent\n",
    "from agent.dqn_agent import Agent as DQN_Agent\n",
    "from agent.ddqn_prioritized_replay_agent import Agent as PR_DDQN_Agent\n",
    "agent_configs = [\n",
    "#                   ({'topology':[128,128,64,64,32,32,16,16,8,8],\n",
    "#                      'eps_start':1.0, \n",
    "#                      'eps_end':0.01,\n",
    "#                      'eps_decay':0.9999,\n",
    "#                      'description':'DQN_deep_topology'},DQN_Agent),\n",
    "#                  ({'topology':[256, 128, 32],\n",
    "#                      'eps_start':1.0, \n",
    "#                      'eps_end':0.01,\n",
    "#                      'eps_decay':0.9999,\n",
    "#                      'description':'DQN_wide_topology'},DQN_Agent),\n",
    "#                  ({'topology':[128,128,64,64,32,32,16,16,8,8],\n",
    "#                      'eps_start':1.0, \n",
    "#                      'eps_end':0.01,\n",
    "#                      'eps_decay':0.9999,\n",
    "#                      'description':'DDQN_deep_topology'},DDQN_Agent),\n",
    "#                  ({'topology':[256, 128, 32],\n",
    "#                      'eps_start':1.0, \n",
    "#                      'eps_end':0.01,\n",
    "#                      'eps_decay':0.9999,\n",
    "#                      'description':'DDQN_wide_topology_2'},DDQN_Agent),\n",
    "                 ({'topology':[256, 128, 32],\n",
    "                     'eps_start':1.0, \n",
    "                     'eps_end':0.01,\n",
    "                     'eps_decay':0.9999,\n",
    "                     'beta_start':0,\n",
    "                     'beta_end':0,\n",
    "                     'beta_factor':1.00003,\n",
    "                     'per_alpha':0,\n",
    "                     'description':'Prioritized_Replay_DDQN_wide_topology'},PR_DDQN_Agent)\n",
    "                ]\n",
    "\n",
    "for hyperparams, Agent in agent_configs:\n",
    "    print('\\n\\nRunning',hyperparams)\n",
    "    print('Agent type',Agent)\n",
    "    agent = Agent(state_size, \n",
    "                  action_size,\n",
    "                  hyperparams)\n",
    "    \n",
    "    trainer = AgentTrainer(env,\n",
    "                       max_t=1000,\n",
    "                       max_n_episodes=2000)\n",
    "    \n",
    "    trainer.train_agent(agent)\n",
    "    trainer.save_scores(hyperparams,\n",
    "                        hyperparams['description'])"
   ]
  },
  {
   "cell_type": "code",
   "execution_count": null,
   "metadata": {},
   "outputs": [],
   "source": [
    "\n",
    "import agent\n",
    "import importlib\n",
    "\n",
    "importlib.reload(utils.utils)\n",
    "importlib.reload(agent.ddqn_prioritized_replay_agent)"
   ]
  },
  {
   "cell_type": "code",
   "execution_count": null,
   "metadata": {},
   "outputs": [],
   "source": [
    "np.seterr(all='raise')"
   ]
  },
  {
   "cell_type": "code",
   "execution_count": null,
   "metadata": {},
   "outputs": [],
   "source": [
    "((1/1)*(1/0.0001))**0.4"
   ]
  },
  {
   "cell_type": "code",
   "execution_count": null,
   "metadata": {},
   "outputs": [],
   "source": []
  },
  {
   "cell_type": "code",
   "execution_count": null,
   "metadata": {},
   "outputs": [],
   "source": [
    "import pickle\n",
    "import pandas as pd\n",
    "%matplotlib inline\n",
    "\n",
    "with open('DDQN_wide_topology','rb') as f:\n",
    "    data = pickle.load(f)\n",
    "\n",
    "df = pd.DataFrame({'data':data['scores']})\n",
    "df['rolling_mean'] = df['data'].rolling(50).mean()\n",
    "df.plot()"
   ]
  },
  {
   "cell_type": "code",
   "execution_count": null,
   "metadata": {},
   "outputs": [],
   "source": [
    "import pickle\n",
    "import pandas as pd\n",
    "%matplotlib inline\n",
    "\n",
    "with open('DQN_wide_topology','rb') as f:\n",
    "    data = pickle.load(f)\n",
    "\n",
    "df = pd.DataFrame({'data':data['scores']})\n",
    "df['rolling_mean'] = df['data'].rolling(50).mean()\n",
    "df.plot()"
   ]
  },
  {
   "cell_type": "code",
   "execution_count": null,
   "metadata": {},
   "outputs": [],
   "source": [
    "import pickle\n",
    "import pandas as pd\n",
    "%matplotlib inline\n",
    "\n",
    "with open('DQN_deep_topology','rb') as f:\n",
    "    data = pickle.load(f)\n",
    "\n",
    "df = pd.DataFrame({'data':data['scores']})\n",
    "df['rolling_mean'] = df['data'].rolling(50).mean()\n",
    "df.plot()"
   ]
  },
  {
   "cell_type": "code",
   "execution_count": null,
   "metadata": {},
   "outputs": [],
   "source": [
    "import pickle\n",
    "import pandas as pd\n",
    "%matplotlib inline\n",
    "\n",
    "with open('DDQN_deep_topology','rb') as f:\n",
    "    data = pickle.load(f)\n",
    "\n",
    "df = pd.DataFrame({'data':data['scores']})\n",
    "df['rolling_mean'] = df['data'].rolling(50).mean()\n",
    "df.plot()"
   ]
  },
  {
   "cell_type": "code",
   "execution_count": null,
   "metadata": {},
   "outputs": [],
   "source": [
    "def epsilon_generator(eps_start:float,\n",
    "                      eps_end:float,\n",
    "                      eps_decay:float):\n",
    "    eps = eps_start\n",
    "    while True:\n",
    "        yield eps\n",
    "        eps = max(eps_end, eps_decay*eps)\n",
    "\n",
    "gen = epsilon_generator(eps_start=1.0, \n",
    "                        eps_end=0.01,\n",
    "                        eps_decay=0.9999,)\n",
    "\n",
    "epsilons = [next(gen) for i in range(300*300)]\n",
    "pd.DataFrame({'epsilons':epsilons}).plot()\n"
   ]
  },
  {
   "cell_type": "code",
   "execution_count": null,
   "metadata": {},
   "outputs": [],
   "source": [
    "import torch\n",
    "# Save\n",
    "torch.save(agent.qnetwork_local.state_dict(), 'checkpoint.pth')"
   ]
  },
  {
   "cell_type": "code",
   "execution_count": null,
   "metadata": {},
   "outputs": [],
   "source": []
  },
  {
   "cell_type": "code",
   "execution_count": null,
   "metadata": {},
   "outputs": [],
   "source": []
  },
  {
   "cell_type": "code",
   "execution_count": null,
   "metadata": {},
   "outputs": [],
   "source": [
    "import torch\n",
    "agent.qnetwork_local.load_state_dict(torch.load('checkpoint.pth'))"
   ]
  },
  {
   "cell_type": "markdown",
   "metadata": {},
   "source": [
    "# Test"
   ]
  },
  {
   "cell_type": "code",
   "execution_count": null,
   "metadata": {},
   "outputs": [],
   "source": [
    "scores = []\n",
    "for i in range(100):\n",
    "    env_info = env.reset(train_mode=True)[brain_name] # reset the environment\n",
    "    state = env_info.vector_observations[0]            # get the current state\n",
    "    score = 0                                          # initialize the score\n",
    "    while True:\n",
    "        action = agent.act(state,training=False)     # select an action\n",
    "        env_info = env.step(action)[brain_name]        # send the action to the environment\n",
    "        next_state = env_info.vector_observations[0]   # get the next state\n",
    "        reward = env_info.rewards[0]                   # get the reward\n",
    "        done = env_info.local_done[0]                  # see if episode has finished\n",
    "        score += reward                                # update the score\n",
    "        state = next_state                             # roll over the state to next time step\n",
    "        if done:                                       # exit loop if episode finished\n",
    "            break\n",
    "\n",
    "    print(\"Score: {}\".format(score))\n",
    "    scores.append(score)"
   ]
  },
  {
   "cell_type": "code",
   "execution_count": null,
   "metadata": {},
   "outputs": [],
   "source": [
    "#env.close()\n",
    "agent"
   ]
  },
  {
   "cell_type": "code",
   "execution_count": null,
   "metadata": {},
   "outputs": [],
   "source": []
  },
  {
   "cell_type": "code",
   "execution_count": null,
   "metadata": {},
   "outputs": [],
   "source": [
    "from utils.utils import times\n",
    "for key,val in times.items():\n",
    "    print(key,np.mean(val)*1000)"
   ]
  },
  {
   "cell_type": "code",
   "execution_count": null,
   "metadata": {},
   "outputs": [],
   "source": [
    "import time\n",
    "@timed()\n",
    "def f():\n",
    "    time.sleep(1)\n",
    "    return 1"
   ]
  },
  {
   "cell_type": "code",
   "execution_count": null,
   "metadata": {},
   "outputs": [],
   "source": [
    "f()"
   ]
  },
  {
   "cell_type": "code",
   "execution_count": null,
   "metadata": {},
   "outputs": [],
   "source": [
    "import numpy as np\n",
    "\n",
    "\n",
    "t= SumTree(10)\n",
    "t.add(1,1)\n",
    "t.add(1,1)\n",
    "len(t)      "
   ]
  },
  {
   "cell_type": "code",
   "execution_count": null,
   "metadata": {},
   "outputs": [],
   "source": [
    "from collections import namedtuple\n",
    "import random\n",
    "import torch\n",
    "device = torch.device(\"cuda:0\" if torch.cuda.is_available() else \"cpu\")\n",
    "\n",
    "            "
   ]
  },
  {
   "cell_type": "code",
   "execution_count": null,
   "metadata": {},
   "outputs": [],
   "source": [
    "buffer = PrioritizedReplayBuffer(buffer_size=100, batch_size=16, seed=1)\n",
    "buffer.add(state=1,\n",
    "           action=1,\n",
    "           reward=1,\n",
    "           next_state=2,\n",
    "           done =False)"
   ]
  },
  {
   "cell_type": "code",
   "execution_count": null,
   "metadata": {},
   "outputs": [],
   "source": [
    "buffer.add(state=2,\n",
    "           action=2,\n",
    "           reward=2,\n",
    "           next_state=3,\n",
    "           done =False)"
   ]
  },
  {
   "cell_type": "code",
   "execution_count": null,
   "metadata": {},
   "outputs": [],
   "source": [
    "indices,_=buffer.sample()"
   ]
  },
  {
   "cell_type": "code",
   "execution_count": null,
   "metadata": {},
   "outputs": [],
   "source": [
    "buffer.update_batches(indices,indices)"
   ]
  },
  {
   "cell_type": "code",
   "execution_count": null,
   "metadata": {},
   "outputs": [],
   "source": [
    "buffer.tree.tree"
   ]
  },
  {
   "cell_type": "code",
   "execution_count": null,
   "metadata": {},
   "outputs": [],
   "source": [
    "from torch import nn\n",
    "import torch\n",
    "loss = nn.MSELoss(reduce=False)\n",
    "input = torch.randn(5, 1)\n",
    "target = torch.randn(5, 1)\n",
    "torch.Tensor([1,2])"
   ]
  },
  {
   "cell_type": "code",
   "execution_count": null,
   "metadata": {},
   "outputs": [],
   "source": [
    "input"
   ]
  },
  {
   "cell_type": "code",
   "execution_count": null,
   "metadata": {},
   "outputs": [],
   "source": [
    "target"
   ]
  },
  {
   "cell_type": "code",
   "execution_count": null,
   "metadata": {},
   "outputs": [],
   "source": [
    "loss(input,target).mean()"
   ]
  },
  {
   "cell_type": "code",
   "execution_count": null,
   "metadata": {},
   "outputs": [],
   "source": [
    "import numpy as np\n",
    "(np.square(target-input)).sum()/5"
   ]
  },
  {
   "cell_type": "code",
   "execution_count": null,
   "metadata": {},
   "outputs": [],
   "source": [
    "weights = np.array([0.1,0.2,0.3,0.4,0.5])"
   ]
  },
  {
   "cell_type": "code",
   "execution_count": null,
   "metadata": {},
   "outputs": [],
   "source": [
    "(weights*np.square(target-input).reshape(-1)).mean()"
   ]
  },
  {
   "cell_type": "code",
   "execution_count": null,
   "metadata": {},
   "outputs": [],
   "source": [
    "i_w = input.reshape(-1)\n",
    "t_w = target.reshape(-1)\n",
    "\n",
    "(loss(i_w,t_w)*torch.from_numpy(weights).float()).mean()"
   ]
  },
  {
   "cell_type": "code",
   "execution_count": null,
   "metadata": {},
   "outputs": [],
   "source": [
    "loss(i_w,t_w)*0.2"
   ]
  },
  {
   "cell_type": "code",
   "execution_count": null,
   "metadata": {},
   "outputs": [],
   "source": [
    "input.shape"
   ]
  },
  {
   "cell_type": "code",
   "execution_count": null,
   "metadata": {},
   "outputs": [],
   "source": [
    "input.reshape(-1)*torch.from_numpy(np.square(weights)).float()"
   ]
  },
  {
   "cell_type": "code",
   "execution_count": null,
   "metadata": {},
   "outputs": [],
   "source": [
    "torch.from_numpy(np.square(weights).reshape(-1,1)).shape"
   ]
  },
  {
   "cell_type": "code",
   "execution_count": null,
   "metadata": {},
   "outputs": [],
   "source": [
    "input.reshape(-1).shape"
   ]
  },
  {
   "cell_type": "code",
   "execution_count": null,
   "metadata": {},
   "outputs": [],
   "source": [
    "def annealing_generator(eps_start:float,\n",
    "                      eps_end:float,\n",
    "                      eps_decay:float):\n",
    "    decreasing = eps_start>eps_end\n",
    "    \n",
    "    eps = eps_start\n",
    "    while True:\n",
    "        yield eps\n",
    "        f = max if decreasing else min\n",
    "        eps = f(eps_end, eps_decay*eps)"
   ]
  },
  {
   "cell_type": "code",
   "execution_count": null,
   "metadata": {},
   "outputs": [],
   "source": []
  },
  {
   "cell_type": "code",
   "execution_count": null,
   "metadata": {},
   "outputs": [],
   "source": [
    "import pandas as pd\n",
    "ser = pd.Series([next(beta_gen) for _ in range(100*300)])\n",
    "ser.plot()"
   ]
  },
  {
   "cell_type": "code",
   "execution_count": null,
   "metadata": {},
   "outputs": [],
   "source": []
  },
  {
   "cell_type": "code",
   "execution_count": null,
   "metadata": {},
   "outputs": [],
   "source": []
  }
 ],
 "metadata": {
  "kernelspec": {
   "display_name": "drlnd",
   "language": "python",
   "name": "drlnd"
  },
  "language_info": {
   "codemirror_mode": {
    "name": "ipython",
    "version": 3
   },
   "file_extension": ".py",
   "mimetype": "text/x-python",
   "name": "python",
   "nbconvert_exporter": "python",
   "pygments_lexer": "ipython3",
   "version": "3.6.13"
  }
 },
 "nbformat": 4,
 "nbformat_minor": 2
}
