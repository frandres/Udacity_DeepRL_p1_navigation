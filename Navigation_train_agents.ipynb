{
 "cells": [
  {
   "cell_type": "markdown",
   "metadata": {},
   "source": [
    "# Navigation\n",
    "\n",
    "---\n",
    "\n",
    "You are welcome to use this coding environment to train your agent for the project.  Follow the instructions below to get started!\n",
    "\n",
    "### 1. Start the Environment\n",
    "\n",
    "Run the next code cell to install a few packages.  This line will take a few minutes to run!"
   ]
  },
  {
   "cell_type": "markdown",
   "metadata": {},
   "source": [
    "The environment is already saved in the Workspace and can be accessed at the file path provided below.  Please run the next code cell without making any changes."
   ]
  },
  {
   "cell_type": "code",
   "execution_count": 1,
   "metadata": {},
   "outputs": [
    {
     "name": "stderr",
     "output_type": "stream",
     "text": [
      "INFO:unityagents:\n",
      "'Academy' started successfully!\n",
      "Unity Academy name: Academy\n",
      "        Number of Brains: 1\n",
      "        Number of External Brains : 1\n",
      "        Lesson number : 0\n",
      "        Reset Parameters :\n",
      "\t\t\n",
      "Unity brain name: BananaBrain\n",
      "        Number of Visual Observations (per agent): 0\n",
      "        Vector Observation space type: continuous\n",
      "        Vector Observation space size (per agent): 37\n",
      "        Number of stacked Vector Observation: 1\n",
      "        Vector Action space type: discrete\n",
      "        Vector Action space size (per agent): 4\n",
      "        Vector Action descriptions: , , , \n"
     ]
    }
   ],
   "source": [
    "from unityagents import UnityEnvironment\n",
    "import numpy as np\n",
    "\n",
    "# please do not modify the line below\n",
    "env = UnityEnvironment(file_name=\"./Banana\")"
   ]
  },
  {
   "cell_type": "markdown",
   "metadata": {},
   "source": [
    "Environments contain **_brains_** which are responsible for deciding the actions of their associated agents. Here we check for the first brain available, and set it as the default brain we will be controlling from Python."
   ]
  },
  {
   "cell_type": "code",
   "execution_count": 2,
   "metadata": {},
   "outputs": [],
   "source": [
    "# get the default brain\n",
    "brain_name = env.brain_names[0]\n",
    "brain = env.brains[brain_name]"
   ]
  },
  {
   "cell_type": "markdown",
   "metadata": {},
   "source": [
    "### 2. Examine the State and Action Spaces\n",
    "\n",
    "Run the code cell below to print some information about the environment."
   ]
  },
  {
   "cell_type": "code",
   "execution_count": 3,
   "metadata": {},
   "outputs": [
    {
     "name": "stdout",
     "output_type": "stream",
     "text": [
      "Number of agents: 1\n",
      "Number of actions: 4\n",
      "States look like: [1.         0.         0.         0.         0.84408134 0.\n",
      " 0.         1.         0.         0.0748472  0.         1.\n",
      " 0.         0.         0.25755    1.         0.         0.\n",
      " 0.         0.74177343 0.         1.         0.         0.\n",
      " 0.25854847 0.         0.         1.         0.         0.09355672\n",
      " 0.         1.         0.         0.         0.31969345 0.\n",
      " 0.        ]\n",
      "States have length: 37\n"
     ]
    }
   ],
   "source": [
    "# reset the environment\n",
    "env_info = env.reset(train_mode=True)[brain_name]\n",
    "\n",
    "# number of agents in the environment\n",
    "print('Number of agents:', len(env_info.agents))\n",
    "\n",
    "# number of actions\n",
    "action_size = brain.vector_action_space_size\n",
    "print('Number of actions:', action_size)\n",
    "\n",
    "# examine the state space \n",
    "state = env_info.vector_observations[0]\n",
    "print('States look like:', state)\n",
    "state_size = len(state)\n",
    "print('States have length:', state_size)"
   ]
  },
  {
   "cell_type": "markdown",
   "metadata": {},
   "source": [
    "### 3. Take Random Actions in the Environment\n",
    "\n",
    "In the next code cell, you will learn how to use the Python API to control the agent and receive feedback from the environment.\n",
    "\n",
    "Note that **in this coding environment, you will not be able to watch the agent while it is training**, and you should set `train_mode=True` to restart the environment."
   ]
  },
  {
   "cell_type": "code",
   "execution_count": 4,
   "metadata": {},
   "outputs": [
    {
     "name": "stdout",
     "output_type": "stream",
     "text": [
      "Score: 0.0\n"
     ]
    }
   ],
   "source": [
    "env_info = env.reset(train_mode=True)[brain_name] # reset the environment\n",
    "state = env_info.vector_observations[0]            # get the current state\n",
    "score = 0                                          # initialize the score\n",
    "while True:\n",
    "    action = np.random.randint(action_size)        # select an action\n",
    "    env_info = env.step(action)[brain_name]        # send the action to the environment\n",
    "    next_state = env_info.vector_observations[0]   # get the next state\n",
    "    reward = env_info.rewards[0]                   # get the reward\n",
    "    done = env_info.local_done[0]                  # see if episode has finished\n",
    "    score += reward                                # update the score\n",
    "    state = next_state                             # roll over the state to next time step\n",
    "    if done:                                       # exit loop if episode finished\n",
    "        break\n",
    "    \n",
    "print(\"Score: {}\".format(score))"
   ]
  },
  {
   "cell_type": "markdown",
   "metadata": {},
   "source": [
    "When finished, you can close the environment."
   ]
  },
  {
   "cell_type": "code",
   "execution_count": 5,
   "metadata": {},
   "outputs": [],
   "source": [
    "#env.close()"
   ]
  },
  {
   "cell_type": "markdown",
   "metadata": {},
   "source": [
    "### 4. Train the agent. \n",
    "\n",
    "We specify the configs for training agents using different algorithms/hyperparameters.\n",
    "The scores and weights are stored in filenames including the description field"
   ]
  },
  {
   "cell_type": "code",
   "execution_count": null,
   "metadata": {
    "scrolled": true
   },
   "outputs": [
    {
     "name": "stdout",
     "output_type": "stream",
     "text": [
      "\n",
      "\n",
      "Running {'topology': [128, 128, 64, 64, 32, 32, 16, 16, 8, 8], 'eps_start': 1.0, 'eps_end': 0.01, 'eps_decay': 0.9999, 'description': 'DQN_deep_topology'}\n",
      "Agent type <class 'agent.dqn_agent.Agent'>\n",
      "Episode 100\tAverage Score: 1.08\n",
      "Episode 200\tAverage Score: 3.30\n",
      "Episode 300\tAverage Score: 5.69\n",
      "Episode 400\tAverage Score: 8.47\n",
      "Episode 500\tAverage Score: 10.49\n",
      "Episode 600\tAverage Score: 8.721\n",
      "Episode 700\tAverage Score: 10.85\n",
      "Episode 800\tAverage Score: 12.04\n",
      "Episode 900\tAverage Score: 11.51\n",
      "Episode 1000\tAverage Score: 11.62\n",
      "Episode 1100\tAverage Score: 11.91\n",
      "Episode 1183\tAverage Score: 13.04Env solved in 1083 episodes! Avg Score: 13.04\n",
      "Episode 1200\tAverage Score: 12.82\n",
      "Episode 1300\tAverage Score: 13.29\n",
      "Episode 1400\tAverage Score: 13.98\n",
      "Episode 1500\tAverage Score: 13.45\n",
      "Episode 1600\tAverage Score: 13.63\n",
      "Episode 1700\tAverage Score: 13.65\n",
      "Episode 1800\tAverage Score: 13.99\n",
      "Episode 1900\tAverage Score: 12.31\n",
      "Episode 2000\tAverage Score: 13.06\n",
      "\n",
      "\n",
      "Running {'topology': [256, 128, 32], 'eps_start': 1.0, 'eps_end': 0.01, 'eps_decay': 0.9999, 'description': 'DQN_wide_topology'}\n",
      "Agent type <class 'agent.dqn_agent.Agent'>\n",
      "Episode 100\tAverage Score: 5.09\n",
      "Episode 200\tAverage Score: 9.37\n",
      "Episode 300\tAverage Score: 11.43\n",
      "Episode 351\tAverage Score: 13.05Env solved in 251 episodes! Avg Score: 13.05\n",
      "Episode 400\tAverage Score: 14.34\n",
      "Episode 500\tAverage Score: 14.86\n",
      "Episode 600\tAverage Score: 14.93\n",
      "Episode 700\tAverage Score: 14.33\n",
      "Episode 800\tAverage Score: 14.81\n",
      "Episode 900\tAverage Score: 14.73\n",
      "Episode 1000\tAverage Score: 14.50\n",
      "Episode 1100\tAverage Score: 14.94\n",
      "Episode 1200\tAverage Score: 15.00\n",
      "Episode 1300\tAverage Score: 14.35\n",
      "Episode 1400\tAverage Score: 15.03\n",
      "Episode 1500\tAverage Score: 14.36\n",
      "Episode 1600\tAverage Score: 15.22\n",
      "Episode 1700\tAverage Score: 15.53\n",
      "Episode 1800\tAverage Score: 14.82\n",
      "Episode 1900\tAverage Score: 15.42\n",
      "Episode 2000\tAverage Score: 15.18\n",
      "\n",
      "\n",
      "Running {'topology': [128, 128, 64, 64, 32, 32, 16, 16, 8, 8], 'eps_start': 1.0, 'eps_end': 0.01, 'eps_decay': 0.9999, 'description': 'DDQN_deep_topology'}\n",
      "Agent type <class 'agent.ddqn_agent.Agent'>\n",
      "Episode 100\tAverage Score: 0.98\n",
      "Episode 200\tAverage Score: 5.13\n",
      "Episode 300\tAverage Score: 4.36\n",
      "Episode 400\tAverage Score: 9.13\n",
      "Episode 500\tAverage Score: 10.69\n",
      "Episode 600\tAverage Score: 10.42\n",
      "Episode 700\tAverage Score: 8.211\n",
      "Episode 800\tAverage Score: 8.78\n",
      "Episode 900\tAverage Score: 8.88\n",
      "Episode 1000\tAverage Score: 12.46\n",
      "Episode 1020\tAverage Score: 13.00Env solved in 920 episodes! Avg Score: 13.00\n",
      "Episode 1100\tAverage Score: 13.83\n",
      "Episode 1200\tAverage Score: 13.65\n",
      "Episode 1300\tAverage Score: 14.65\n",
      "Episode 1400\tAverage Score: 15.29\n",
      "Episode 1500\tAverage Score: 15.74\n",
      "Episode 1600\tAverage Score: 15.95\n",
      "Episode 1700\tAverage Score: 15.29\n",
      "Episode 1800\tAverage Score: 15.00\n",
      "Episode 1900\tAverage Score: 15.06\n",
      "Episode 2000\tAverage Score: 15.05\n",
      "\n",
      "\n",
      "Running {'topology': [256, 128, 32], 'eps_start': 1.0, 'eps_end': 0.01, 'eps_decay': 0.9999, 'description': 'DDQN_wide_topology_2'}\n",
      "Agent type <class 'agent.ddqn_agent.Agent'>\n",
      "Episode 100\tAverage Score: 3.09\n",
      "Episode 200\tAverage Score: 7.69\n",
      "Episode 300\tAverage Score: 11.73\n",
      "Episode 362\tAverage Score: 13.01Env solved in 262 episodes! Avg Score: 13.01\n",
      "Episode 400\tAverage Score: 14.29\n",
      "Episode 500\tAverage Score: 15.55\n",
      "Episode 600\tAverage Score: 15.48\n",
      "Episode 700\tAverage Score: 16.24\n",
      "Episode 800\tAverage Score: 15.70\n",
      "Episode 900\tAverage Score: 15.58\n",
      "Episode 1000\tAverage Score: 16.22\n",
      "Episode 1100\tAverage Score: 16.05\n",
      "Episode 1200\tAverage Score: 15.53\n",
      "Episode 1300\tAverage Score: 15.15\n",
      "Episode 1400\tAverage Score: 16.21\n",
      "Episode 1500\tAverage Score: 15.78\n",
      "Episode 1600\tAverage Score: 14.77\n",
      "Episode 1700\tAverage Score: 15.56\n",
      "Episode 1800\tAverage Score: 15.01\n",
      "Episode 1900\tAverage Score: 15.34\n",
      "Episode 2000\tAverage Score: 15.79\n",
      "\n",
      "\n",
      "Running {'topology': [128, 128, 64, 64, 32, 32, 16, 16, 8, 8], 'eps_start': 1.0, 'eps_end': 0.01, 'eps_decay': 0.9999, 'batch_size': 16, 'beta_start': 0.5, 'beta_end': 1, 'beta_factor': 1.00003, 'per_alpha': 1, 'description': 'Prioritized_Replay_DDQN_deep_topology_high_prioritization'}\n",
      "Agent type <class 'agent.ddqn_prioritized_replay_agent.Agent'>\n",
      "Episode 100\tAverage Score: 0.26\n",
      "Episode 200\tAverage Score: 0.93\n",
      "Episode 300\tAverage Score: 0.90\n",
      "Episode 400\tAverage Score: 0.031\n",
      "Episode 500\tAverage Score: -0.12\n",
      "Episode 600\tAverage Score: 0.121\n",
      "Episode 700\tAverage Score: 0.11\n",
      "Episode 800\tAverage Score: 0.071\n",
      "Episode 900\tAverage Score: 0.031\n",
      "Episode 1000\tAverage Score: -0.02\n",
      "Episode 1100\tAverage Score: -0.04\n",
      "Episode 1200\tAverage Score: -0.19\n",
      "Episode 1300\tAverage Score: 0.062\n",
      "Episode 1400\tAverage Score: 0.19\n",
      "Episode 1500\tAverage Score: -0.04\n",
      "Episode 1600\tAverage Score: -0.02\n",
      "Episode 1700\tAverage Score: 0.091\n",
      "Episode 1800\tAverage Score: -0.01\n",
      "Episode 1900\tAverage Score: -0.01\n",
      "Episode 2000\tAverage Score: -0.02\n",
      "\n",
      "\n",
      "Running {'topology': [128, 128, 64, 64, 32, 32, 16, 16, 8, 8], 'eps_start': 1.0, 'eps_end': 0.01, 'eps_decay': 0.9999, 'batch_size': 16, 'beta_start': 0.5, 'beta_end': 1, 'beta_factor': 1.00003, 'per_alpha': 0.5, 'description': 'Prioritized_Replay_DDQN_deep_topology_mid_prioritization'}\n",
      "Agent type <class 'agent.ddqn_prioritized_replay_agent.Agent'>\n",
      "Episode 100\tAverage Score: -0.13\n",
      "Episode 200\tAverage Score: 2.673\n",
      "Episode 300\tAverage Score: 3.54\n",
      "Episode 400\tAverage Score: 0.20\n",
      "Episode 500\tAverage Score: 0.111\n",
      "Episode 503\tAverage Score: 0.11"
     ]
    }
   ],
   "source": [
    "from trainer.trainer import AgentTrainer\n",
    "\n",
    "\n",
    "from agent.ddqn_agent import Agent as DDQN_Agent\n",
    "from agent.dqn_agent import Agent as DQN_Agent\n",
    "from agent.ddqn_prioritized_replay_agent import Agent as PR_DDQN_Agent\n",
    "\n",
    "import torch\n",
    "agent_configs = [\n",
    "                  ({'topology':[128,128,64,64,32,32,16,16,8,8],\n",
    "                     'eps_start':1.0, \n",
    "                     'eps_end':0.01,\n",
    "                     'eps_decay':0.9999,\n",
    "                     'description':'DQN_deep_topology'},DQN_Agent),\n",
    "                 ({'topology':[256, 128, 32],\n",
    "                     'eps_start':1.0, \n",
    "                     'eps_end':0.01,\n",
    "                     'eps_decay':0.9999,\n",
    "                     'description':'DQN_wide_topology'},DQN_Agent),\n",
    "                 ({'topology':[128,128,64,64,32,32,16,16,8,8],\n",
    "                     'eps_start':1.0, \n",
    "                     'eps_end':0.01,\n",
    "                     'eps_decay':0.9999,\n",
    "                     'description':'DDQN_deep_topology'},DDQN_Agent),\n",
    "                 ({'topology':[256, 128, 32],\n",
    "                     'eps_start':1.0, \n",
    "                     'eps_end':0.01,\n",
    "                     'eps_decay':0.9999,\n",
    "                     'description':'DDQN_wide_topology_2'},DDQN_Agent),\n",
    "                   ({'topology':[128,128,64,64,32,32,16,16,8,8],\n",
    "                     'eps_start':1.0, \n",
    "                     'eps_end':0.01,\n",
    "                     'eps_decay':0.9999,\n",
    "                     'batch_size':16,\n",
    "                     'beta_start':0.5,\n",
    "                     'beta_end':1,\n",
    "                     'beta_factor':1.00003,\n",
    "                     'per_alpha':1,\n",
    "                     'description':'Prioritized_Replay_DDQN_deep_topology_high_prioritization'},PR_DDQN_Agent),\n",
    "                    ({'topology':[128,128,64,64,32,32,16,16,8,8],\n",
    "                     'eps_start':1.0, \n",
    "                     'eps_end':0.01,\n",
    "                     'eps_decay':0.9999,\n",
    "                     'batch_size':16,\n",
    "                     'beta_start':0.5,\n",
    "                     'beta_end':1,\n",
    "                     'beta_factor':1.00003,\n",
    "                     'per_alpha':0.5,\n",
    "                     'description':'Prioritized_Replay_DDQN_deep_topology_mid_prioritization'},PR_DDQN_Agent),\n",
    "                    ({'topology':[128,128,64,64,32,32,16,16,8,8],\n",
    "                     'eps_start':1.0, \n",
    "                     'eps_end':0.01,\n",
    "                     'eps_decay':0.9999,\n",
    "                     'batch_size':16,\n",
    "                     'beta_start':0.5,\n",
    "                     'beta_end':1,\n",
    "                     'beta_factor':1.00003,\n",
    "                     'per_alpha':0.25,\n",
    "                     'description':'Prioritized_Replay_DDQN_deep_topology_low_prioritization'},PR_DDQN_Agent),\n",
    "                 ({'topology':[256, 128, 32],\n",
    "                     'eps_start':1.0, \n",
    "                     'eps_end':0.01,\n",
    "                     'eps_decay':0.9999,\n",
    "                     'batch_size':16,\n",
    "                     'beta_start':0.5,\n",
    "                     'beta_end':1,\n",
    "                     'beta_factor':1.00003,\n",
    "                     'per_alpha':1,\n",
    "                     'description':'Prioritized_Replay_DDQN_wide_topology_high_prioritization'},PR_DDQN_Agent),\n",
    "                   ({'topology':[256, 128, 32],\n",
    "                     'eps_start':1.0, \n",
    "                     'eps_end':0.01,\n",
    "                     'eps_decay':0.9999,\n",
    "                     'batch_size':16,\n",
    "                     'beta_start':0.5,\n",
    "                     'beta_end':1,\n",
    "                     'beta_factor':1.00003,\n",
    "                     'per_alpha':0.5,\n",
    "                     'description':'Prioritized_Replay_DDQN_wide_topology_mid_prioritization'},PR_DDQN_Agent),\n",
    "                   ({'topology':[256, 128, 32],\n",
    "                     'eps_start':1.0, \n",
    "                     'eps_end':0.01,\n",
    "                     'eps_decay':0.9999,\n",
    "                     'batch_size':16,\n",
    "                     'beta_start':0.5,\n",
    "                     'beta_end':1,\n",
    "                     'beta_factor':1.00003,\n",
    "                     'per_alpha':0.25,\n",
    "                     'description':'Prioritized_Replay_DDQN_wide_topology_low_prioritization'},PR_DDQN_Agent),\n",
    "                ]\n",
    "\n",
    "for hyperparams, Agent in agent_configs:\n",
    "    print('\\n\\nRunning',hyperparams)\n",
    "    print('Agent type',Agent)\n",
    "    agent = Agent(state_size, \n",
    "                  action_size,\n",
    "                  hyperparams)\n",
    "    \n",
    "    trainer = AgentTrainer(env,\n",
    "                       max_t=1000,\n",
    "                       max_n_episodes=2000)\n",
    "    \n",
    "    agent = trainer.train_agent(agent)\n",
    "    \n",
    "    torch.save(agent.qnetwork_local.state_dict(), \n",
    "               f'''./weights/{hyperparams['description']}_checkpoint.pth''')\n",
    "    \n",
    "    trainer.save_scores(hyperparams,\n",
    "                        f'''./results/{hyperparams['description']}''')"
   ]
  },
  {
   "cell_type": "markdown",
   "metadata": {},
   "source": [
    "### 5 Test"
   ]
  },
  {
   "cell_type": "code",
   "execution_count": null,
   "metadata": {},
   "outputs": [],
   "source": []
  },
  {
   "cell_type": "code",
   "execution_count": null,
   "metadata": {},
   "outputs": [],
   "source": [
    "import torch\n",
    "agent.qnetwork_local.load_state_dict(torch.load(f'Prioritized_Replay_DDQN_wide_topology_low_prioritization_checkpoint.pth'))"
   ]
  },
  {
   "cell_type": "code",
   "execution_count": null,
   "metadata": {},
   "outputs": [],
   "source": [
    "scores = []\n",
    "\n",
    "for i in range(100):\n",
    "    env_info = env.reset(train_mode=True)[brain_name] # reset the environment\n",
    "    state = env_info.vector_observations[0]            # get the current state\n",
    "    score = 0                                          # initialize the score\n",
    "    while True:\n",
    "        action = agent.act(state,training=False)     # select an action\n",
    "        env_info = env.step(action)[brain_name]        # send the action to the environment\n",
    "        next_state = env_info.vector_observations[0]   # get the next state\n",
    "        reward = env_info.rewards[0]                   # get the reward\n",
    "        done = env_info.local_done[0]                  # see if episode has finished\n",
    "        score += reward                                # update the score\n",
    "        state = next_state                             # roll over the state to next time step\n",
    "        if done:                                       # exit loop if episode finished\n",
    "            break\n",
    "\n",
    "    scores.append(score)\n",
    "np.mean(scores)"
   ]
  },
  {
   "cell_type": "markdown",
   "metadata": {},
   "source": [
    "# Inspect visually"
   ]
  },
  {
   "cell_type": "code",
   "execution_count": null,
   "metadata": {},
   "outputs": [],
   "source": [
    "\n",
    "import time\n",
    "\n",
    "env_info = env.reset(train_mode=True)[brain_name] # reset the environment\n",
    "state = env_info.vector_observations[0]            # get the current state\n",
    "score = 0                                          # initialize the score\n",
    "while True:\n",
    "    action = agent.act(state,training=False)     # select an action\n",
    "    env_info = env.step(action)[brain_name]        # send the action to the environment\n",
    "    next_state = env_info.vector_observations[0]   # get the next state\n",
    "    reward = env_info.rewards[0]                   # get the reward\n",
    "    done = env_info.local_done[0]                  # see if episode has finished\n",
    "    score += reward                                # update the score\n",
    "    state = next_state                             # roll over the state to next time step\n",
    "    if done:                                       # exit loop if episode finished\n",
    "        break\n",
    "    time.sleep(0.5)"
   ]
  },
  {
   "cell_type": "code",
   "execution_count": null,
   "metadata": {},
   "outputs": [],
   "source": []
  }
 ],
 "metadata": {
  "kernelspec": {
   "display_name": "drlnd",
   "language": "python",
   "name": "drlnd"
  },
  "language_info": {
   "codemirror_mode": {
    "name": "ipython",
    "version": 3
   },
   "file_extension": ".py",
   "mimetype": "text/x-python",
   "name": "python",
   "nbconvert_exporter": "python",
   "pygments_lexer": "ipython3",
   "version": "3.6.13"
  }
 },
 "nbformat": 4,
 "nbformat_minor": 2
}
